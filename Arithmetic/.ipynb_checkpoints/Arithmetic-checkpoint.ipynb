{
 "cells": [
  {
   "cell_type": "code",
   "execution_count": 1,
   "id": "fb0a831a",
   "metadata": {},
   "outputs": [
    {
     "data": {
      "text/plain": [
       "12"
      ]
     },
     "execution_count": 1,
     "metadata": {},
     "output_type": "execute_result"
    }
   ],
   "source": [
    "4+8"
   ]
  },
  {
   "cell_type": "code",
   "execution_count": 3,
   "id": "bcf4a927",
   "metadata": {},
   "outputs": [
    {
     "data": {
      "text/plain": [
       "10"
      ]
     },
     "execution_count": 3,
     "metadata": {},
     "output_type": "execute_result"
    }
   ],
   "source": [
    "4 + 1 + 5"
   ]
  },
  {
   "cell_type": "code",
   "execution_count": 4,
   "id": "41c59d44",
   "metadata": {},
   "outputs": [
    {
     "data": {
      "text/plain": [
       "2"
      ]
     },
     "execution_count": 4,
     "metadata": {},
     "output_type": "execute_result"
    }
   ],
   "source": [
    "5 - 3 "
   ]
  },
  {
   "cell_type": "code",
   "execution_count": 6,
   "id": "147d1b35",
   "metadata": {},
   "outputs": [
    {
     "data": {
      "text/plain": [
       "5"
      ]
     },
     "execution_count": 6,
     "metadata": {},
     "output_type": "execute_result"
    }
   ],
   "source": [
    "3 * 3 + 1 - 5"
   ]
  },
  {
   "cell_type": "code",
   "execution_count": 9,
   "id": "64225c9d",
   "metadata": {},
   "outputs": [
    {
     "data": {
      "text/plain": [
       "1.0"
      ]
     },
     "execution_count": 9,
     "metadata": {},
     "output_type": "execute_result"
    }
   ],
   "source": [
    "(1 + 3) / 4"
   ]
  },
  {
   "cell_type": "code",
   "execution_count": 11,
   "id": "a98d4dd1",
   "metadata": {},
   "outputs": [
    {
     "data": {
      "text/plain": [
       "4.7"
      ]
     },
     "execution_count": 11,
     "metadata": {},
     "output_type": "execute_result"
    }
   ],
   "source": [
    "#Excercise 1\n",
    "\n",
    "5 - (2/4 * 3/5)"
   ]
  },
  {
   "cell_type": "code",
   "execution_count": 13,
   "id": "3c002014",
   "metadata": {},
   "outputs": [
    {
     "data": {
      "text/plain": [
       "-0.030303030303030304"
      ]
     },
     "execution_count": 13,
     "metadata": {},
     "output_type": "execute_result"
    }
   ],
   "source": [
    "#Exercise 1\n",
    "\n",
    "(4 - 5) / (3 + 5*6)"
   ]
  },
  {
   "cell_type": "code",
   "execution_count": 15,
   "id": "cbc71fa5",
   "metadata": {},
   "outputs": [
    {
     "data": {
      "text/plain": [
       "7"
      ]
     },
     "execution_count": 15,
     "metadata": {},
     "output_type": "execute_result"
    }
   ],
   "source": [
    "x = 7\n",
    "x"
   ]
  },
  {
   "cell_type": "code",
   "execution_count": 17,
   "id": "3a98c1c2",
   "metadata": {},
   "outputs": [
    {
     "data": {
      "text/plain": [
       "5"
      ]
     },
     "execution_count": 17,
     "metadata": {},
     "output_type": "execute_result"
    }
   ],
   "source": [
    "x - 2"
   ]
  },
  {
   "cell_type": "code",
   "execution_count": 32,
   "id": "5f44cb40",
   "metadata": {
    "scrolled": true
   },
   "outputs": [
    {
     "data": {
      "text/plain": [
       "10"
      ]
     },
     "execution_count": 32,
     "metadata": {},
     "output_type": "execute_result"
    }
   ],
   "source": [
    "x = 10\n",
    "x"
   ]
  },
  {
   "cell_type": "code",
   "execution_count": 33,
   "id": "4cb363c1",
   "metadata": {},
   "outputs": [
    {
     "data": {
      "text/plain": [
       "0"
      ]
     },
     "execution_count": 33,
     "metadata": {},
     "output_type": "execute_result"
    }
   ],
   "source": [
    "x = x - 2*5\n",
    "x"
   ]
  },
  {
   "cell_type": "code",
   "execution_count": 37,
   "id": "25fe1a8b",
   "metadata": {},
   "outputs": [
    {
     "name": "stdout",
     "output_type": "stream",
     "text": [
      "630\n",
      "-610\n"
     ]
    }
   ],
   "source": [
    "x = 10\n",
    "y = 20\n",
    "z = 31\n",
    "\n",
    "print(x + y*z)\n",
    "print(x - y*z)"
   ]
  },
  {
   "cell_type": "code",
   "execution_count": 35,
   "id": "dcd9c05b",
   "metadata": {},
   "outputs": [
    {
     "data": {
      "text/plain": [
       "44"
      ]
     },
     "execution_count": 35,
     "metadata": {},
     "output_type": "execute_result"
    }
   ],
   "source": [
    "mike = 10\n",
    "spike = 34\n",
    "\n",
    "mike + spike"
   ]
  },
  {
   "cell_type": "code",
   "execution_count": 47,
   "id": "f3ddd591",
   "metadata": {},
   "outputs": [
    {
     "name": "stdout",
     "output_type": "stream",
     "text": [
      "42\n",
      "0.0\n"
     ]
    }
   ],
   "source": [
    "#Exercise 2\n",
    "\n",
    "x = 7\n",
    "y = -2\n",
    "z = 5\n",
    "\n",
    "print( 3*x * (4 + y) )\n",
    "print( -y - (x + 3) / z )"
   ]
  },
  {
   "cell_type": "code",
   "execution_count": 49,
   "id": "5bcdd8da",
   "metadata": {},
   "outputs": [
    {
     "data": {
      "text/plain": [
       "'4 + 3 = 7'"
      ]
     },
     "metadata": {},
     "output_type": "display_data"
    },
    {
     "data": {
      "text/plain": [
       "'4 + 3 = 7'"
      ]
     },
     "metadata": {},
     "output_type": "display_data"
    }
   ],
   "source": [
    "#Import modules\n",
    "from IPython.display import display, Math\n",
    "\n",
    "display( '4 + 3 = 7' )\n",
    "display( '4 + 3 = ' + str(4+3) )"
   ]
  },
  {
   "cell_type": "code",
   "execution_count": 50,
   "id": "866dbe2b",
   "metadata": {},
   "outputs": [
    {
     "data": {
      "text/latex": [
       "$\\displaystyle 4+3=7$"
      ],
      "text/plain": [
       "<IPython.core.display.Math object>"
      ]
     },
     "metadata": {},
     "output_type": "display_data"
    }
   ],
   "source": [
    "display(Math( '4+3=7' ))"
   ]
  },
  {
   "cell_type": "code",
   "execution_count": 51,
   "id": "b8c6ca48",
   "metadata": {},
   "outputs": [
    {
     "data": {
      "text/latex": [
       "$\\displaystyle 4 + 5 = 9$"
      ],
      "text/plain": [
       "<IPython.core.display.Math object>"
      ]
     },
     "metadata": {},
     "output_type": "display_data"
    }
   ],
   "source": [
    "x = 4 \n",
    "y = 5\n",
    "\n",
    "display(Math( str(x) + ' + ' + str(y) + ' = ' + str(x+y) ))"
   ]
  },
  {
   "cell_type": "code",
   "execution_count": 52,
   "id": "0586a27e",
   "metadata": {},
   "outputs": [
    {
     "data": {
      "text/latex": [
       "$\\displaystyle 4+5 = 9$"
      ],
      "text/plain": [
       "<IPython.core.display.Math object>"
      ]
     },
     "metadata": {},
     "output_type": "display_data"
    }
   ],
   "source": [
    "display(Math( '%g+%g = %g' %(x,y,x+y) ))"
   ]
  },
  {
   "cell_type": "code",
   "execution_count": 57,
   "id": "3e0f3db6",
   "metadata": {},
   "outputs": [
    {
     "data": {
      "text/latex": [
       "$\\displaystyle 4/5 = .8$"
      ],
      "text/plain": [
       "<IPython.core.display.Math object>"
      ]
     },
     "metadata": {},
     "output_type": "display_data"
    },
    {
     "data": {
      "text/latex": [
       "$\\displaystyle \\frac{4}{5}$"
      ],
      "text/plain": [
       "<IPython.core.display.Math object>"
      ]
     },
     "metadata": {},
     "output_type": "display_data"
    }
   ],
   "source": [
    "#Latex coding\n",
    "\n",
    "display(Math('4/5 = .8'))\n",
    "display(Math('\\\\frac{4}{5}'))"
   ]
  },
  {
   "cell_type": "code",
   "execution_count": 58,
   "id": "a4c34494",
   "metadata": {},
   "outputs": [
    {
     "data": {
      "text/latex": [
       "$\\displaystyle 3.4 \\times 17 = 57.8$"
      ],
      "text/plain": [
       "<IPython.core.display.Math object>"
      ]
     },
     "metadata": {},
     "output_type": "display_data"
    }
   ],
   "source": [
    "x = 3.4\n",
    "y = 17\n",
    "\n",
    "display(Math('%g \\\\times %g = %g' %(x,y,x*y)))"
   ]
  },
  {
   "cell_type": "code",
   "execution_count": 70,
   "id": "8621de40",
   "metadata": {},
   "outputs": [
    {
     "data": {
      "text/latex": [
       "$\\displaystyle 3x(4 + y) = 42$"
      ],
      "text/plain": [
       "<IPython.core.display.Math object>"
      ]
     },
     "metadata": {},
     "output_type": "display_data"
    },
    {
     "data": {
      "text/latex": [
       "$\\displaystyle 3\\times7(4 + -2) = 42$"
      ],
      "text/plain": [
       "<IPython.core.display.Math object>"
      ]
     },
     "metadata": {},
     "output_type": "display_data"
    },
    {
     "data": {
      "text/latex": [
       "$\\displaystyle -y-\\frac{x+3}{z}=0$"
      ],
      "text/plain": [
       "<IPython.core.display.Math object>"
      ]
     },
     "metadata": {},
     "output_type": "display_data"
    },
    {
     "data": {
      "text/latex": [
       "$\\displaystyle --2-\\frac{7+3}{5}=0$"
      ],
      "text/plain": [
       "<IPython.core.display.Math object>"
      ]
     },
     "metadata": {},
     "output_type": "display_data"
    }
   ],
   "source": [
    "# Exercise 3\n",
    "\n",
    "x = 7\n",
    "y = -2\n",
    "z = 5\n",
    "\n",
    "display(Math('3x(4 + y) = 42'))\n",
    "display(Math('3\\\\times%g(4 + %g) = %g' %(x,y,(3*x)*(4+y))))\n",
    "display(Math('-y-\\\\frac{x+3}{z}=0'))\n",
    "display(Math('-%g-\\\\frac{%g+3}{%g}=%g' %(y,x,z,(-y) - ((x+3) / z))))"
   ]
  },
  {
   "cell_type": "code",
   "execution_count": 4,
   "id": "18bc6f9d",
   "metadata": {},
   "outputs": [
    {
     "data": {
      "text/plain": [
       "9"
      ]
     },
     "execution_count": 4,
     "metadata": {},
     "output_type": "execute_result"
    }
   ],
   "source": [
    "#Exponents (Powers)\n",
    "\n",
    "3**2"
   ]
  },
  {
   "cell_type": "code",
   "execution_count": 5,
   "id": "2823a00b",
   "metadata": {},
   "outputs": [
    {
     "data": {
      "text/plain": [
       "9"
      ]
     },
     "execution_count": 5,
     "metadata": {},
     "output_type": "execute_result"
    }
   ],
   "source": [
    "x = 2\n",
    "3**x"
   ]
  },
  {
   "cell_type": "code",
   "execution_count": 6,
   "id": "44cc8603",
   "metadata": {},
   "outputs": [
    {
     "name": "stdout",
     "output_type": "stream",
     "text": [
      "27\n",
      "27\n"
     ]
    }
   ],
   "source": [
    "print(3**3)\n",
    "print(3*3*3)"
   ]
  },
  {
   "cell_type": "code",
   "execution_count": 8,
   "id": "31241f04",
   "metadata": {},
   "outputs": [
    {
     "name": "stdout",
     "output_type": "stream",
     "text": [
      "729\n",
      "729\n",
      "729\n"
     ]
    }
   ],
   "source": [
    "print( 3**2 * 3**4 )\n",
    "print( 3**(2+4) )\n",
    "print( 3**6 )"
   ]
  },
  {
   "cell_type": "code",
   "execution_count": 4,
   "id": "1c744ca0",
   "metadata": {
    "scrolled": true
   },
   "outputs": [
    {
     "name": "stdout",
     "output_type": "stream",
     "text": [
      "2.0\n",
      "3.0\n",
      "5.0\n",
      "7.0\n",
      "1.7320508075688772\n"
     ]
    }
   ],
   "source": [
    "# How to compute square roots\n",
    "\n",
    "print(4**(1/2))\n",
    "print(9**(1/2))\n",
    "print(25**(1/2))\n",
    "print(49**(1/2))\n",
    "print(3**(1/2))"
   ]
  },
  {
   "cell_type": "code",
   "execution_count": 22,
   "id": "9dcc082c",
   "metadata": {},
   "outputs": [
    {
     "data": {
      "text/latex": [
       "$\\displaystyle 3^2\\times 3^4 = 3^{2+4} = 3^6$"
      ],
      "text/plain": [
       "<IPython.core.display.Math object>"
      ]
     },
     "metadata": {},
     "output_type": "display_data"
    },
    {
     "data": {
      "text/latex": [
       "$\\displaystyle 3^2\\times 3^4 = 729$"
      ],
      "text/plain": [
       "<IPython.core.display.Math object>"
      ]
     },
     "metadata": {},
     "output_type": "display_data"
    }
   ],
   "source": [
    "from IPython.display import display,Math\n",
    "\n",
    "display(Math('3^2\\\\times 3^4 = 3^{2+4} = 3^6'))\n",
    "display(Math('3^2\\\\times 3^4 = %g' %( 3**2 * 3**4 )))"
   ]
  },
  {
   "cell_type": "code",
   "execution_count": 32,
   "id": "12b070cd",
   "metadata": {
    "scrolled": true
   },
   "outputs": [
    {
     "data": {
      "text/latex": [
       "$\\displaystyle x^{3/4} \\times 4^y = 3933.09$"
      ],
      "text/plain": [
       "<IPython.core.display.Math object>"
      ]
     },
     "metadata": {},
     "output_type": "display_data"
    },
    {
     "data": {
      "text/latex": [
       "$\\displaystyle \\frac{3^3}{x^y} = 0.00735558$"
      ],
      "text/plain": [
       "<IPython.core.display.Math object>"
      ]
     },
     "metadata": {},
     "output_type": "display_data"
    },
    {
     "data": {
      "text/latex": [
       "$\\displaystyle 10^{x-4} = 10$"
      ],
      "text/plain": [
       "<IPython.core.display.Math object>"
      ]
     },
     "metadata": {},
     "output_type": "display_data"
    }
   ],
   "source": [
    "x = 5\n",
    "y = 5.1\n",
    "\n",
    "ans1 = x**(3/4) * 4**y\n",
    "ans2 = 3**3 / x**y\n",
    "ans3 = 10**(x-4)\n",
    "\n",
    "display(Math('x^{3/4} \\\\times 4^y = %g' %ans1))\n",
    "display(Math('\\\\frac{3^3}{x^y} = %g' %ans2))\n",
    "display(Math('10^{x-4} = %g' %ans3))\n"
   ]
  },
  {
   "cell_type": "code",
   "execution_count": 2,
   "id": "c8e72437",
   "metadata": {
    "scrolled": true
   },
   "outputs": [
    {
     "name": "stdout",
     "output_type": "stream",
     "text": [
      "0\n",
      "2\n",
      "4\n",
      "6\n"
     ]
    }
   ],
   "source": [
    "# For loops to compute powers\n",
    "\n",
    "for i in [0, 1, 2, 3]:\n",
    "    print(i*2)"
   ]
  },
  {
   "cell_type": "code",
   "execution_count": 4,
   "id": "66da220f",
   "metadata": {},
   "outputs": [
    {
     "data": {
      "text/plain": [
       "[0, 1, 2]"
      ]
     },
     "execution_count": 4,
     "metadata": {},
     "output_type": "execute_result"
    }
   ],
   "source": [
    "list( range(0,3) )"
   ]
  },
  {
   "cell_type": "code",
   "execution_count": 8,
   "id": "40f7e85e",
   "metadata": {
    "scrolled": true
   },
   "outputs": [
    {
     "name": "stdout",
     "output_type": "stream",
     "text": [
      "This is the 0th iteration\n",
      "This is the 1th iteration\n",
      "This is the 2th iteration\n"
     ]
    }
   ],
   "source": [
    "for qwerty in range(0,3):\n",
    "    print('This is the %gth iteration' %qwerty)"
   ]
  },
  {
   "cell_type": "code",
   "execution_count": 9,
   "id": "c13fef33",
   "metadata": {
    "scrolled": true
   },
   "outputs": [
    {
     "name": "stdout",
     "output_type": "stream",
     "text": [
      "0\n",
      "1\n",
      "4\n",
      "9\n",
      "16\n"
     ]
    }
   ],
   "source": [
    "for t in range(0,5):\n",
    "    num = t**2\n",
    "    print(num)"
   ]
  },
  {
   "cell_type": "code",
   "execution_count": 27,
   "id": "6b059da7",
   "metadata": {
    "scrolled": true
   },
   "outputs": [
    {
     "name": "stdout",
     "output_type": "stream",
     "text": [
      "2 to the power of 0 is 1\n",
      "2 to the power of 1 is 2\n",
      "2 to the power of 2 is 4\n",
      "2 to the power of 3 is 8\n",
      "2 to the power of 4 is 16\n",
      "2 to the power of 5 is 32\n",
      "2 to the power of 6 is 64\n",
      "2 to the power of 7 is 128\n",
      "2 to the power of 8 is 256\n",
      "2 to the power of 9 is 512\n"
     ]
    }
   ],
   "source": [
    "base = 2\n",
    "\n",
    "for i in range(0,10):\n",
    "    print('%g to the power of %g is %g' %(base, i, base**i))"
   ]
  },
  {
   "cell_type": "code",
   "execution_count": 5,
   "id": "5be33e46",
   "metadata": {
    "scrolled": true
   },
   "outputs": [
    {
     "name": "stdout",
     "output_type": "stream",
     "text": [
      "9\n",
      "7\n",
      "2.0\n",
      "0.0\n"
     ]
    }
   ],
   "source": [
    "# Order of operations (PEMDAS)\n",
    "\n",
    "print( 4 + 3 * 2 - 1 )\n",
    "print ( (4+3) * (2-1) )\n",
    "print( (4*5) / (7+3) )\n",
    "print( 9/(3+6) - 1 )"
   ]
  },
  {
   "cell_type": "code",
   "execution_count": 9,
   "id": "a1e12866",
   "metadata": {},
   "outputs": [
    {
     "name": "stdout",
     "output_type": "stream",
     "text": [
      "False\n"
     ]
    },
    {
     "data": {
      "text/plain": [
       "10.0002"
      ]
     },
     "execution_count": 9,
     "metadata": {},
     "output_type": "execute_result"
    }
   ],
   "source": [
    "# Testing inequalities and boolean\n",
    "\n",
    "b = 10 > 3*3334\n",
    "print(b)\n",
    "3*3.3334"
   ]
  },
  {
   "cell_type": "code",
   "execution_count": 16,
   "id": "aee967c0",
   "metadata": {},
   "outputs": [
    {
     "name": "stdout",
     "output_type": "stream",
     "text": [
      "True\n",
      "True\n"
     ]
    }
   ],
   "source": [
    "a = 4 >= 2+2\n",
    "b = 4 <= 2+2+1\n",
    "print(a)\n",
    "print(b)"
   ]
  },
  {
   "cell_type": "code",
   "execution_count": 18,
   "id": "26eef800",
   "metadata": {},
   "outputs": [
    {
     "name": "stdout",
     "output_type": "stream",
     "text": [
      "True\n"
     ]
    }
   ],
   "source": [
    "test = 4 == 2+2\n",
    "print(test)"
   ]
  },
  {
   "cell_type": "code",
   "execution_count": 24,
   "id": "ae46114e",
   "metadata": {
    "scrolled": true
   },
   "outputs": [
    {
     "name": "stdout",
     "output_type": "stream",
     "text": [
      "True\n",
      "True\n"
     ]
    }
   ],
   "source": [
    "x1 = 2\n",
    "x2 = 3\n",
    "x3 = 4\n",
    "\n",
    "print((4*x1 + 3) < (17 - x1**2))\n",
    "print((8*x3 - 2) <= (-3*x3 + 42))"
   ]
  },
  {
   "cell_type": "code",
   "execution_count": 29,
   "id": "db7f9934",
   "metadata": {
    "scrolled": true
   },
   "outputs": [
    {
     "name": "stdout",
     "output_type": "stream",
     "text": [
      "6\n"
     ]
    }
   ],
   "source": [
    "# If statements\n",
    "\n",
    "if 4+2==5:\n",
    "    print('true')\n",
    "else:\n",
    "    print(4+2)"
   ]
  },
  {
   "cell_type": "code",
   "execution_count": 35,
   "id": "0b688005",
   "metadata": {
    "scrolled": false
   },
   "outputs": [
    {
     "name": "stdout",
     "output_type": "stream",
     "text": [
      "5 is greater than 4\n"
     ]
    }
   ],
   "source": [
    "x1 = 5\n",
    "x2 = 4\n",
    "\n",
    "if x1>x2:\n",
    "    print('%g is greater than %g' %(x1,x2))\n",
    "elif x1<x2:\n",
    "    print('%g is greater than %g' %(x2,x1))\n",
    "else:\n",
    "    print('%g is equal to %g' %(x2,x1))"
   ]
  },
  {
   "cell_type": "code",
   "execution_count": 3,
   "id": "ed7c2c20",
   "metadata": {
    "scrolled": true
   },
   "outputs": [
    {
     "data": {
      "text/latex": [
       "$\\displaystyle 1^{-1} = 1$"
      ],
      "text/plain": [
       "<IPython.core.display.Math object>"
      ]
     },
     "metadata": {},
     "output_type": "display_data"
    },
    {
     "data": {
      "text/latex": [
       "$\\displaystyle 1^{-2} = 1$"
      ],
      "text/plain": [
       "<IPython.core.display.Math object>"
      ]
     },
     "metadata": {},
     "output_type": "display_data"
    },
    {
     "data": {
      "text/latex": [
       "$\\displaystyle 1^{-3} = 1$"
      ],
      "text/plain": [
       "<IPython.core.display.Math object>"
      ]
     },
     "metadata": {},
     "output_type": "display_data"
    },
    {
     "data": {
      "text/latex": [
       "$\\displaystyle 1^{-4} = 1$"
      ],
      "text/plain": [
       "<IPython.core.display.Math object>"
      ]
     },
     "metadata": {},
     "output_type": "display_data"
    },
    {
     "data": {
      "text/latex": [
       "$\\displaystyle 2^{-1} = 0.5$"
      ],
      "text/plain": [
       "<IPython.core.display.Math object>"
      ]
     },
     "metadata": {},
     "output_type": "display_data"
    },
    {
     "data": {
      "text/latex": [
       "$\\displaystyle 2^{-2} = 0.25$"
      ],
      "text/plain": [
       "<IPython.core.display.Math object>"
      ]
     },
     "metadata": {},
     "output_type": "display_data"
    },
    {
     "data": {
      "text/latex": [
       "$\\displaystyle 2^{-3} = 0.125$"
      ],
      "text/plain": [
       "<IPython.core.display.Math object>"
      ]
     },
     "metadata": {},
     "output_type": "display_data"
    },
    {
     "data": {
      "text/latex": [
       "$\\displaystyle 2^{-4} = 0.0625$"
      ],
      "text/plain": [
       "<IPython.core.display.Math object>"
      ]
     },
     "metadata": {},
     "output_type": "display_data"
    },
    {
     "data": {
      "text/latex": [
       "$\\displaystyle 3^{-1} = 0.333333$"
      ],
      "text/plain": [
       "<IPython.core.display.Math object>"
      ]
     },
     "metadata": {},
     "output_type": "display_data"
    },
    {
     "data": {
      "text/latex": [
       "$\\displaystyle 3^{-2} = 0.111111$"
      ],
      "text/plain": [
       "<IPython.core.display.Math object>"
      ]
     },
     "metadata": {},
     "output_type": "display_data"
    },
    {
     "data": {
      "text/latex": [
       "$\\displaystyle 3^{-3} = 0.037037$"
      ],
      "text/plain": [
       "<IPython.core.display.Math object>"
      ]
     },
     "metadata": {},
     "output_type": "display_data"
    },
    {
     "data": {
      "text/latex": [
       "$\\displaystyle 3^{-4} = 0.0123457$"
      ],
      "text/plain": [
       "<IPython.core.display.Math object>"
      ]
     },
     "metadata": {},
     "output_type": "display_data"
    }
   ],
   "source": [
    "from IPython.display import display, Math\n",
    "\n",
    "for i in range (0,4):\n",
    "    for j in range (0,5):\n",
    "        if i>0 and j>0:\n",
    "            display(Math('%g^{-%g} = %g' %(i,j,i**-j)))\n",
    "        "
   ]
  },
  {
   "cell_type": "code",
   "execution_count": 3,
   "id": "9ba4ef79",
   "metadata": {},
   "outputs": [
    {
     "data": {
      "text/plain": [
       "(-4, 4)"
      ]
     },
     "execution_count": 3,
     "metadata": {},
     "output_type": "execute_result"
    }
   ],
   "source": [
    "# Absolute Value\n",
    "\n",
    "a = -4\n",
    "b = abs(a)\n",
    "a, b"
   ]
  },
  {
   "cell_type": "code",
   "execution_count": 7,
   "id": "2192c282",
   "metadata": {},
   "outputs": [
    {
     "data": {
      "text/latex": [
       "$\\displaystyle |-4.3| = 4.3$"
      ],
      "text/plain": [
       "<IPython.core.display.Math object>"
      ]
     },
     "metadata": {},
     "output_type": "display_data"
    }
   ],
   "source": [
    "from IPython.display import display,Math\n",
    "\n",
    "x = -4.3\n",
    "\n",
    "display(Math('|%g| = %g' %(x,abs(x))))"
   ]
  },
  {
   "cell_type": "code",
   "execution_count": 14,
   "id": "7e38ece9",
   "metadata": {},
   "outputs": [
    {
     "name": "stdout",
     "output_type": "stream",
     "text": [
      "-4 was not tested.\n",
      "Absolute value of 6 is 6.\n",
      "-1 was not tested.\n",
      "Absolute value of 43 is 43.\n",
      "Absolute value of -18 is 18.\n",
      "2 was not tested.\n",
      "0 was not tested.\n"
     ]
    }
   ],
   "source": [
    "numbers = [-4, 6, -1, 43, -18, 2, 0]\n",
    "\n",
    "# for-loop over the numbers\n",
    "for numi in numbers:\n",
    "    if numi<-5 or numi>2:\n",
    "        print('Absolute value of %g is %g.' %(numi, abs(numi)))\n",
    "    else:\n",
    "        print( str(numi) + ' was not tested.')"
   ]
  },
  {
   "cell_type": "code",
   "execution_count": 17,
   "id": "a1d7807b",
   "metadata": {},
   "outputs": [
    {
     "data": {
      "text/plain": [
       "3"
      ]
     },
     "execution_count": 17,
     "metadata": {},
     "output_type": "execute_result"
    }
   ],
   "source": [
    "# Remainder after division (modulus)\n",
    "\n",
    "a = 10\n",
    "b = 3\n",
    "\n",
    "# integer division\n",
    "int(a/b)"
   ]
  },
  {
   "cell_type": "code",
   "execution_count": 18,
   "id": "a65870cb",
   "metadata": {},
   "outputs": [
    {
     "data": {
      "text/plain": [
       "1"
      ]
     },
     "execution_count": 18,
     "metadata": {},
     "output_type": "execute_result"
    }
   ],
   "source": [
    "# modulus\n",
    "\n",
    "a%b"
   ]
  },
  {
   "cell_type": "code",
   "execution_count": 20,
   "id": "1b3058a3",
   "metadata": {},
   "outputs": [
    {
     "name": "stdout",
     "output_type": "stream",
     "text": [
      "3 goes into 10, 3 times with a remainder of 1.\n"
     ]
    }
   ],
   "source": [
    "divis = int(a/b)\n",
    "remainder = a%b\n",
    "\n",
    "print('%g goes into %g, %g times with a remainder of %g.' %(b, a, divis, remainder))"
   ]
  },
  {
   "cell_type": "code",
   "execution_count": 24,
   "id": "b03f6246",
   "metadata": {},
   "outputs": [
    {
     "name": "stdout",
     "output_type": "stream",
     "text": [
      "-5 is an odd number\n",
      "-4 is an even number\n",
      "-3 is an odd number\n",
      "-2 is an even number\n",
      "-1 is an odd number\n",
      " 0 is an even number\n",
      " 1 is an odd number\n",
      " 2 is an even number\n",
      " 3 is an odd number\n",
      " 4 is an even number\n",
      " 5 is an odd number\n"
     ]
    }
   ],
   "source": [
    "#Exercise\n",
    "\n",
    "nums = range(-5, 6)\n",
    "\n",
    "for i in nums:\n",
    "    \n",
    "    firstchar = ' '\n",
    "    if i<0:\n",
    "        firstchar = ''\n",
    "    \n",
    "    # test and report\n",
    "    if i%2 == 0:\n",
    "        print('%s%g is an even number' %(firstchar, i))\n",
    "    else:\n",
    "        print('%s%g is an odd number' %(firstchar, i))"
   ]
  },
  {
   "cell_type": "markdown",
   "id": "368052e4",
   "metadata": {},
   "source": [
    "# Create interactive math functions"
   ]
  },
  {
   "cell_type": "code",
   "execution_count": 10,
   "id": "f4458237",
   "metadata": {},
   "outputs": [],
   "source": [
    "def computeRemainder(x, y):\n",
    "    divis = int(x/y)\n",
    "    remainder = x%y\n",
    "\n",
    "    print('%g goes into %g, %g times with a remainder of %g' %(x, y, divis, remainder))"
   ]
  },
  {
   "cell_type": "code",
   "execution_count": 11,
   "id": "e3ce7475",
   "metadata": {},
   "outputs": [
    {
     "name": "stdout",
     "output_type": "stream",
     "text": [
      "100 goes into 16, 6 times with a remainder of 4\n"
     ]
    }
   ],
   "source": [
    "computeRemainder(100, 16)"
   ]
  },
  {
   "cell_type": "code",
   "execution_count": 8,
   "id": "76191a11",
   "metadata": {},
   "outputs": [
    {
     "name": "stdout",
     "output_type": "stream",
     "text": [
      "Input a number 69\n"
     ]
    }
   ],
   "source": [
    "a = int( input('Input a number ') )"
   ]
  },
  {
   "cell_type": "code",
   "execution_count": 9,
   "id": "11262823",
   "metadata": {},
   "outputs": [
    {
     "data": {
      "text/plain": [
       "int"
      ]
     },
     "execution_count": 9,
     "metadata": {},
     "output_type": "execute_result"
    }
   ],
   "source": [
    "type(a)"
   ]
  },
  {
   "cell_type": "code",
   "execution_count": 18,
   "id": "9044636e",
   "metadata": {},
   "outputs": [],
   "source": [
    "def divisionWithInput():\n",
    "    \n",
    "    x = int( input('Input a numerator:'))\n",
    "    y = int( input('Input a denominator:'))\n",
    "  \n",
    "    divis = int(x/y)\n",
    "    remainder = x%y\n",
    "\n",
    "    print('%g goes into %g, %g times with a remainder of %g' %(x, y, divis, remainder))"
   ]
  },
  {
   "cell_type": "code",
   "execution_count": 21,
   "id": "7f68e7fa",
   "metadata": {
    "scrolled": false
   },
   "outputs": [
    {
     "name": "stdout",
     "output_type": "stream",
     "text": [
      "Input a numerator:100\n",
      "Input a denominator:16\n",
      "100 goes into 16, 6 times with a remainder of 4\n"
     ]
    }
   ],
   "source": [
    "divisionWithInput()"
   ]
  },
  {
   "cell_type": "code",
   "execution_count": 7,
   "id": "ba06fa8d",
   "metadata": {},
   "outputs": [],
   "source": [
    "# Exercise\n",
    "from IPython.display import display,Math\n",
    "\n",
    "# Create functions\n",
    "\n",
    "def powers(x,y):\n",
    "    display(Math('%g^{%g} = %g' %(x,y,x**y)))\n",
    "    \n",
    "def division(x,y):\n",
    "    display(Math('\\\\frac{%g}{%g} = %g' %(x,y,x/y)))\n",
    "    \n",
    "def mainFunction():\n",
    "    # Get input from user\n",
    "    x = float( input('Input x:') )\n",
    "    y = float( input('Input y:') )\n",
    "    \n",
    "    display(Math('\\\\text{Press \"1\" to compute }%g^{%g}\\\\text{ or press \"2\" to compute }\\\\frac{%g}{%g}' %(x,y,x,y)))\n",
    "    switch = input(' ')\n",
    "    \n",
    "    if switch=='1':\n",
    "        powers(x,y)\n",
    "    elif switch=='2':\n",
    "        division(x,y)\n",
    "    else:\n",
    "        print('Invalid selection!')"
   ]
  },
  {
   "cell_type": "code",
   "execution_count": 8,
   "id": "ab6f5b12",
   "metadata": {
    "scrolled": true
   },
   "outputs": [
    {
     "name": "stdout",
     "output_type": "stream",
     "text": [
      "Input x:2.3\n",
      "Input y:4.1\n"
     ]
    },
    {
     "data": {
      "text/latex": [
       "$\\displaystyle \\text{Press \"1\" to compute }2.3^{4.1}\\text{ or press \"2\" to compute }\\frac{2.3}{4.1}$"
      ],
      "text/plain": [
       "<IPython.core.display.Math object>"
      ]
     },
     "metadata": {},
     "output_type": "display_data"
    },
    {
     "name": "stdout",
     "output_type": "stream",
     "text": [
      " 1\n"
     ]
    },
    {
     "data": {
      "text/latex": [
       "$\\displaystyle 2.3^{4.1} = 30.4147$"
      ],
      "text/plain": [
       "<IPython.core.display.Math object>"
      ]
     },
     "metadata": {},
     "output_type": "display_data"
    }
   ],
   "source": [
    "mainFunction()"
   ]
  },
  {
   "cell_type": "code",
   "execution_count": 8,
   "id": "a54065ef",
   "metadata": {},
   "outputs": [
    {
     "data": {
      "text/plain": [
       "2"
      ]
     },
     "execution_count": 8,
     "metadata": {},
     "output_type": "execute_result"
    }
   ],
   "source": [
    "from numpy import random\n",
    "\n",
    "# function definition (no inputs necessary)\n",
    "def guessTheNumber():\n",
    "\n",
    "    # generate a random integer\n",
    "    num2guess = random.randint(1, 101)\n",
    "    \n",
    "# ask the user for a guess\n",
    "    \n",
    "    \n",
    "# check wheter the number is a match\n",
    "\n",
    "# if too low, print a message and ask for another guess\n",
    "\n",
    "# if too high, print a message and ask for another guess\n",
    "\n",
    "# if the guess is correct, congratulate the user!"
   ]
  }
 ],
 "metadata": {
  "kernelspec": {
   "display_name": "Python 3 (ipykernel)",
   "language": "python",
   "name": "python3"
  },
  "language_info": {
   "codemirror_mode": {
    "name": "ipython",
    "version": 3
   },
   "file_extension": ".py",
   "mimetype": "text/x-python",
   "name": "python",
   "nbconvert_exporter": "python",
   "pygments_lexer": "ipython3",
   "version": "3.9.7"
  }
 },
 "nbformat": 4,
 "nbformat_minor": 5
}
